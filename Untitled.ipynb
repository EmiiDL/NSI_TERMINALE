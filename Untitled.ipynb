{
  "metadata": {
    "language_info": {
      "codemirror_mode": {
        "name": "python",
        "version": 3
      },
      "file_extension": ".py",
      "mimetype": "text/x-python",
      "name": "python",
      "nbconvert_exporter": "python",
      "pygments_lexer": "ipython3",
      "version": "3.8"
    },
    "kernelspec": {
      "name": "python",
      "display_name": "Python (Pyodide)",
      "language": "python"
    }
  },
  "nbformat_minor": 4,
  "nbformat": 4,
  "cells": [
    {
      "cell_type": "code",
      "source": "print(\"voici la  MAGNIFIQUE FONCTION APPELE\\nLA PILE\")",
      "metadata": {
        "jupyter": {
          "source_hidden": true
        },
        "tags": [],
        "trusted": true
      },
      "execution_count": 2,
      "outputs": [
        {
          "name": "stdout",
          "text": "voici la  MAGNIFIQUE FONCTION APPELE\nLA PILE\n",
          "output_type": "stream"
        }
      ]
    },
    {
      "cell_type": "code",
      "source": "print(\"mais enfin bob, c'est quoi une pile ?\\n eh bah c'es trés simple jami,\\nLa pile , c'est comme une pile d'assiette, tu peut seulement prendre la première sinon tout casse\")",
      "metadata": {
        "jupyter": {
          "source_hidden": true
        },
        "tags": [],
        "trusted": true
      },
      "execution_count": 3,
      "outputs": [
        {
          "name": "stdout",
          "text": "mais enfin bob, c'est quoi une pile ?\n eh bah c'es trés simple jami,\nLa pile , c'est comme une pile d'assiette, tu peut seulement prendre la première sinon tout casse\n",
          "output_type": "stream"
        }
      ]
    },
    {
      "cell_type": "code",
      "source": "def créer_pile():\n    pile=[]\n    return pile\n#on a créé la def pile",
      "metadata": {
        "trusted": true
      },
      "execution_count": 4,
      "outputs": []
    },
    {
      "cell_type": "code",
      "source": "def empiler(x,pile):\n    pile.append(x)\n    return pile\n#ca sert à empiler pile :D",
      "metadata": {
        "trusted": true
      },
      "execution_count": 5,
      "outputs": []
    },
    {
      "cell_type": "code",
      "source": "def depiler(pile):\n    pile.pop()\n    #erreur si il n'y a pas de valeur \n    return pile ",
      "metadata": {
        "trusted": true
      },
      "execution_count": 6,
      "outputs": []
    },
    {
      "cell_type": "code",
      "source": "def hauteur_pile(pile):\n    return len(pile)",
      "metadata": {
        "trusted": true
      },
      "execution_count": 7,
      "outputs": []
    },
    {
      "cell_type": "code",
      "source": "def est_vide(pile):\n    return hauteur(pile)==0",
      "metadata": {
        "trusted": true
      },
      "execution_count": 8,
      "outputs": []
    },
    {
      "cell_type": "code",
      "source": "def sommet(pile):\n    return pile[-1]",
      "metadata": {
        "trusted": true
      },
      "execution_count": 11,
      "outputs": []
    },
    {
      "cell_type": "code",
      "source": "print(\"LA FILE \\n ce n'est pas une PILE!!\\n mais une file dans un magasin!!!\\nle premiers qui rentre est toujours le premier qui sort",
      "metadata": {},
      "execution_count": null,
      "outputs": []
    }
  ]
}